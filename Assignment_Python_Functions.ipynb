{
  "nbformat": 4,
  "nbformat_minor": 0,
  "metadata": {
    "colab": {
      "provenance": []
    },
    "kernelspec": {
      "name": "python3",
      "display_name": "Python 3"
    },
    "language_info": {
      "name": "python"
    }
  },
  "cells": [
    {
      "cell_type": "markdown",
      "source": [
        "# **Functions:**\n",
        "**Theoretical Questions:**\n"
      ],
      "metadata": {
        "id": "WBZ3DZsv9HH2"
      }
    },
    {
      "cell_type": "markdown",
      "source": [
        "**1.What is the difference between a function and a method in Python?**\n",
        "\n",
        "A function is a block of code that performs a specific task, and it can be called independently. A method, on the other hand, is a function that is associated with an object and is called on that object. Methods are defined within a class and operate on instances of that class.\n",
        "\n"
      ],
      "metadata": {
        "id": "Ev9amFqwOwwv"
      }
    },
    {
      "cell_type": "markdown",
      "source": [
        "**2.Explain the concept of function arguments and parameters in Python:**\n",
        "\n",
        "In Python, parameters are the names listed in the function definition. Arguments are the actual values passed to the function when it is called. Parameters are placeholders for the values the function needs to perform its task, while arguments are the concrete data that the function works with during execution."
      ],
      "metadata": {
        "id": "8TRWvfIqQ0YW"
      }
    },
    {
      "cell_type": "markdown",
      "source": [
        "**3.What are the different ways to define and call a function in Python?**\n",
        "\n"
      ],
      "metadata": {
        "id": "ElPqnZPmReBW"
      }
    },
    {
      "cell_type": "markdown",
      "metadata": {
        "id": "c718827d"
      },
      "source": [
        "### Defining Functions\n",
        "\n",
        "**Using `def` keyword:** This is the most common way to define a function."
      ]
    },
    {
      "cell_type": "code",
      "metadata": {
        "id": "7b15676c"
      },
      "source": [
        "def my_function(parameter1, parameter2):\n",
        "  \"\"\"This is a docstring explaining the function.\"\"\"\n",
        "  # Function body\n",
        "  result = parameter1 + parameter2\n",
        "  return result"
      ],
      "execution_count": null,
      "outputs": []
    },
    {
      "cell_type": "markdown",
      "metadata": {
        "id": "0288acc4"
      },
      "source": [
        "**Using `lambda` (anonymous functions):** These are small, unnamed functions often used for short operations."
      ]
    },
    {
      "cell_type": "code",
      "metadata": {
        "id": "398de939"
      },
      "source": [
        "my_lambda_function = lambda parameter1, parameter2: parameter1 + parameter2"
      ],
      "execution_count": null,
      "outputs": []
    },
    {
      "cell_type": "markdown",
      "metadata": {
        "id": "52c2335e"
      },
      "source": [
        "### Calling Functions\n",
        "\n",
        "**Positional arguments:** Arguments are passed in the order they are defined in the function."
      ]
    },
    {
      "cell_type": "code",
      "metadata": {
        "colab": {
          "base_uri": "https://localhost:8080/"
        },
        "id": "2beef814",
        "outputId": "6df2b2de-8153-4ea0-bb01-86bc529484b8"
      },
      "source": [
        "result1 = my_function(1, 2)\n",
        "print(result1)"
      ],
      "execution_count": null,
      "outputs": [
        {
          "output_type": "stream",
          "name": "stdout",
          "text": [
            "3\n"
          ]
        }
      ]
    },
    {
      "cell_type": "markdown",
      "metadata": {
        "id": "3ead40f9"
      },
      "source": [
        "**Keyword arguments:** Arguments are passed using the parameter name, allowing for flexible ordering."
      ]
    },
    {
      "cell_type": "code",
      "metadata": {
        "colab": {
          "base_uri": "https://localhost:8080/"
        },
        "id": "835fdf35",
        "outputId": "ad948ce6-e7cd-4873-c689-41d9631ded59"
      },
      "source": [
        "result2 = my_function(parameter2=2, parameter1=1)\n",
        "print(result2)"
      ],
      "execution_count": null,
      "outputs": [
        {
          "output_type": "stream",
          "name": "stdout",
          "text": [
            "3\n"
          ]
        }
      ]
    },
    {
      "cell_type": "markdown",
      "metadata": {
        "id": "d0e0458e"
      },
      "source": [
        "**Arbitrary positional arguments (`*args`):** Allows a function to accept a variable number of positional arguments."
      ]
    },
    {
      "cell_type": "code",
      "metadata": {
        "colab": {
          "base_uri": "https://localhost:8080/"
        },
        "id": "0eeb78af",
        "outputId": "a307f976-42ee-4049-8c1d-cc006b3e58e5"
      },
      "source": [
        "def my_function_args(*args):\n",
        "  for arg in args:\n",
        "    print(arg)\n",
        "\n",
        "my_function_args(1, 2, 3)"
      ],
      "execution_count": null,
      "outputs": [
        {
          "output_type": "stream",
          "name": "stdout",
          "text": [
            "1\n",
            "2\n",
            "3\n"
          ]
        }
      ]
    },
    {
      "cell_type": "markdown",
      "metadata": {
        "id": "a09f1f89"
      },
      "source": [
        "**Arbitrary keyword arguments (`**kwargs`):** Allows a function to accept a variable number of keyword arguments."
      ]
    },
    {
      "cell_type": "code",
      "metadata": {
        "colab": {
          "base_uri": "https://localhost:8080/"
        },
        "id": "ba863b3e",
        "outputId": "64a09466-66a3-481b-f9b6-d9dfd17838b1"
      },
      "source": [
        "def my_function_kwargs(**kwargs):\n",
        "  for key, value in kwargs.items():\n",
        "    print(f\"{key}: {value}\")\n",
        "\n",
        "my_function_kwargs(name=\"Alice\", age=30)"
      ],
      "execution_count": null,
      "outputs": [
        {
          "output_type": "stream",
          "name": "stdout",
          "text": [
            "name: Alice\n",
            "age: 30\n"
          ]
        }
      ]
    },
    {
      "cell_type": "markdown",
      "metadata": {
        "id": "0e8d14bb"
      },
      "source": [
        "**Calling lambda functions:**"
      ]
    },
    {
      "cell_type": "code",
      "metadata": {
        "colab": {
          "base_uri": "https://localhost:8080/"
        },
        "id": "2d864f87",
        "outputId": "a5ee295b-4bec-4c57-c7ae-7c9fa7569edf"
      },
      "source": [
        "result3 = my_lambda_function(1, 2)\n",
        "print(result3)"
      ],
      "execution_count": null,
      "outputs": [
        {
          "output_type": "stream",
          "name": "stdout",
          "text": [
            "3\n"
          ]
        }
      ]
    },
    {
      "cell_type": "markdown",
      "source": [
        "**4.What is the purpose of the `return` statement in a Python function?\n",
        "\n",
        "The return statement in a Python function is used to send a value back to the caller of the function. It allows a function to produce an output that can be used elsewhere in your code. When a return statement is encountered, the function execution stops immediately, and the specified value is returned. If no return statement is used, the function will return None by default.\n",
        "\n",
        "Here's a simple example:"
      ],
      "metadata": {
        "id": "MAWDSYYiStra"
      }
    },
    {
      "cell_type": "code",
      "metadata": {
        "colab": {
          "base_uri": "https://localhost:8080/"
        },
        "id": "ad522619",
        "outputId": "983b8524-5b60-4aea-a9ae-eb9c9bc5268b"
      },
      "source": [
        "def add_numbers(a, b):\n",
        "  \"\"\"This function adds two numbers and returns the sum.\"\"\"\n",
        "  sum_result = a + b\n",
        "  return sum_result\n",
        "\n",
        "# Call the function and store the returned value\n",
        "result = add_numbers(5, 3)\n",
        "print(result)"
      ],
      "execution_count": null,
      "outputs": [
        {
          "output_type": "stream",
          "name": "stdout",
          "text": [
            "8\n"
          ]
        }
      ]
    },
    {
      "cell_type": "markdown",
      "source": [
        "**5.What are iterators in Python and how do they differ from iterables?**\n",
        "\n",
        "In Python, an iterable is an object that can be looped over, such as a list, tuple, string, or dictionary. It's an object capable of returning its members one by one. We can check if an object is iterable using the iter() function.\n",
        "\n",
        "An iterator, on the other hand, is an object that represents a stream of data. It's an object that implements the iterator protocol, which consists of two methods: __iter__() and __next__(). The __iter__() method returns the iterator object itself, and the __next__() method returns the next item from the iteration. When there are no more items, it raises the StopIteration exception.\n",
        "\n",
        "In essence, an iterable is a container that we can get an iterator from, and an iterator is what we use to actually traverse through the items of the iterable one by one.\n",
        "\n",
        "Here's a simple analogy: We can think of an iterable as a book, and an iterator as a bookmark. The book (iterable) contains all the content, and the bookmark (iterator) helps us keep track of our current position and move to the next page."
      ],
      "metadata": {
        "id": "HqTIxZDmTSYZ"
      }
    },
    {
      "cell_type": "markdown",
      "source": [
        "**6.Explain the concept of generators in Python and how they are defined.**"
      ],
      "metadata": {
        "id": "Q63EQrNKUlpq"
      }
    },
    {
      "cell_type": "markdown",
      "metadata": {
        "id": "a22855e1"
      },
      "source": [
        "### Defining Generators\n",
        "\n",
        "Generators are defined like regular functions, but they use the `yield` keyword to produce a sequence of values. When the `yield` statement is encountered, the function's state is saved, and the yielded value is returned. When `__next__()` is called on the generator iterator, the function resumes execution from where it left off."
      ]
    },
    {
      "cell_type": "code",
      "metadata": {
        "colab": {
          "base_uri": "https://localhost:8080/"
        },
        "id": "a7c37e56",
        "outputId": "d3b6386b-6e4d-43a0-f85e-95e9b97362c2"
      },
      "source": [
        "def my_generator():\n",
        "  \"\"\"A simple generator function.\"\"\"\n",
        "  print(\"First item\")\n",
        "  yield 1\n",
        "  print(\"Second item\")\n",
        "  yield 2\n",
        "  print(\"Third item\")\n",
        "  yield 3\n",
        "\n",
        "# Create a generator object\n",
        "gen = my_generator()\n",
        "\n",
        "# Iterate through the generator\n",
        "print(next(gen))\n",
        "print(next(gen))\n",
        "print(next(gen))\n",
        "\n",
        "# This will raise StopIteration as there are no more items\n",
        "# print(next(gen))"
      ],
      "execution_count": null,
      "outputs": [
        {
          "output_type": "stream",
          "name": "stdout",
          "text": [
            "First item\n",
            "1\n",
            "Second item\n",
            "2\n",
            "Third item\n",
            "3\n"
          ]
        }
      ]
    },
    {
      "cell_type": "markdown",
      "metadata": {
        "id": "6d5de63e"
      },
      "source": [
        "We can also iterate through a generator using a `for` loop, which automatically handles the `StopIteration` exception."
      ]
    },
    {
      "cell_type": "code",
      "metadata": {
        "colab": {
          "base_uri": "https://localhost:8080/"
        },
        "id": "77a84724",
        "outputId": "92e62ca9-c530-4ace-ec36-958c1192cc74"
      },
      "source": [
        "for item in my_generator():\n",
        "  print(item)"
      ],
      "execution_count": null,
      "outputs": [
        {
          "output_type": "stream",
          "name": "stdout",
          "text": [
            "First item\n",
            "1\n",
            "Second item\n",
            "2\n",
            "Third item\n",
            "3\n"
          ]
        }
      ]
    },
    {
      "cell_type": "markdown",
      "source": [
        "**7.What are the advantages of using generators over regular functions?**\n",
        "\n",
        "Generators offer several advantages over regular functions that return lists or other iterable collections, especially when dealing with large datasets or infinite sequences:\n",
        "\n",
        "Memory Efficiency: Generators produce values one at a time on demand using the yield keyword. This means they don't store the entire sequence in memory, making them highly efficient for large datasets where storing everything at once would consume excessive memory. Regular functions that return lists, on the other hand, build the entire list in memory before returning it.\n",
        "Lazy Evaluation: Generators compute values only when they are requested (when next() is called or during iteration). This is known as lazy evaluation. This can be beneficial when you only need to process a few items from a large sequence, as you avoid generating and storing the entire sequence unnecessarily.\n",
        "Infinite Sequences: Generators can easily represent infinite sequences because they don't need to generate all the values upfront. You can simply keep requesting the next value as needed.\n",
        "Readability and Simplicity: For certain types of iterative tasks, using a generator can make the code more readable and concise compared to writing a class with __iter__() and __next__() methods to create a custom iterator.\n",
        "Pipelining: Generators can be easily chained together to create data processing pipelines. The output of one generator can be the input of another, allowing for efficient and modular data manipulation.\n",
        "In summary, generators are a powerful tool in Python for creating iterators in a memory-efficient and concise way, particularly useful for large datasets, infinite sequences, and building data processing pipelines."
      ],
      "metadata": {
        "id": "Aj73SZDJVLuo"
      }
    },
    {
      "cell_type": "markdown",
      "source": [
        "**8.What is a lambda function in Python and when is it typically used?\n",
        "\n",
        "A lambda function in Python is a small, anonymous function defined using the lambda keyword. Unlike regular functions defined with def, lambda functions are typically used for short, simple operations and can only contain a single expression. They are often used in situations where a small function is needed for a short period, such as with higher-order functions like map(), filter(), and sorted().\n",
        "\n",
        "Here's a simple example:"
      ],
      "metadata": {
        "id": "3MiS8R4yVzAe"
      }
    },
    {
      "cell_type": "code",
      "metadata": {
        "colab": {
          "base_uri": "https://localhost:8080/"
        },
        "id": "700a7caa",
        "outputId": "e8b1ced6-59bf-4a64-b6ad-e31a780b940b"
      },
      "source": [
        "# A regular function\n",
        "def add(x, y):\n",
        "  return x + y\n",
        "\n",
        "# The equivalent lambda function\n",
        "add_lambda = lambda x, y: x + y\n",
        "\n",
        "print(add(2, 3))\n",
        "print(add_lambda(2, 3))"
      ],
      "execution_count": null,
      "outputs": [
        {
          "output_type": "stream",
          "name": "stdout",
          "text": [
            "5\n",
            "5\n"
          ]
        }
      ]
    },
    {
      "cell_type": "markdown",
      "source": [
        "**9.Explain the purpose and usage of the `map()` function in Python.**"
      ],
      "metadata": {
        "id": "2yuSHNHyWZ5s"
      }
    },
    {
      "cell_type": "markdown",
      "metadata": {
        "id": "75aa689f"
      },
      "source": [
        "### Purpose and Usage of `map()`\n",
        "\n",
        "The `map(function, iterable)` function applies the `function` to each item of the `iterable` and returns an iterator containing the results.\n",
        "\n",
        "**Example 1: Applying a function to a list**"
      ]
    },
    {
      "cell_type": "code",
      "metadata": {
        "colab": {
          "base_uri": "https://localhost:8080/"
        },
        "id": "19d766f8",
        "outputId": "9702a83e-aec3-4735-a25a-4377c0aa0eb7"
      },
      "source": [
        "# Define a function to square a number\n",
        "def square(x):\n",
        "  return x * x\n",
        "\n",
        "# Create a list of numbers\n",
        "numbers = [1, 2, 3, 4, 5]\n",
        "\n",
        "# Use map() to apply the square function to each number\n",
        "squared_numbers_iterator = map(square, numbers)\n",
        "\n",
        "# Convert the iterator to a list to see the results\n",
        "squared_numbers_list = list(squared_numbers_iterator)\n",
        "\n",
        "print(squared_numbers_list)"
      ],
      "execution_count": null,
      "outputs": [
        {
          "output_type": "stream",
          "name": "stdout",
          "text": [
            "[1, 4, 9, 16, 25]\n"
          ]
        }
      ]
    },
    {
      "cell_type": "markdown",
      "metadata": {
        "id": "713d94a5"
      },
      "source": [
        "**Example 2: Using `map()` with a lambda function**\n",
        "\n",
        "`map()` is often used with lambda functions for simple operations."
      ]
    },
    {
      "cell_type": "code",
      "metadata": {
        "colab": {
          "base_uri": "https://localhost:8080/"
        },
        "id": "ed80ee7e",
        "outputId": "42cfbd43-bedb-4a24-8007-51c854bbeac7"
      },
      "source": [
        "# Create a list of strings\n",
        "words = [\"apple\", \"banana\", \"cherry\"]\n",
        "\n",
        "# Use map() and a lambda function to get the length of each word\n",
        "word_lengths_iterator = map(lambda word: len(word), words)\n",
        "\n",
        "# Convert the iterator to a list\n",
        "word_lengths_list = list(word_lengths_iterator)\n",
        "\n",
        "print(word_lengths_list)"
      ],
      "execution_count": null,
      "outputs": [
        {
          "output_type": "stream",
          "name": "stdout",
          "text": [
            "[5, 6, 6]\n"
          ]
        }
      ]
    },
    {
      "cell_type": "markdown",
      "metadata": {
        "id": "9a48f01d"
      },
      "source": [
        "**Example 3: Applying a function with multiple arguments**\n",
        "\n",
        "If the function you pass to `map()` takes multiple arguments, you can provide multiple iterables. `map()` will take corresponding elements from each iterable and pass them as arguments to the function."
      ]
    },
    {
      "cell_type": "code",
      "metadata": {
        "colab": {
          "base_uri": "https://localhost:8080/"
        },
        "id": "61ac82c8",
        "outputId": "09f48573-4611-4108-9390-ff4648ba5d64"
      },
      "source": [
        "# Define a function to add two numbers\n",
        "def add(x, y):\n",
        "  return x + y\n",
        "\n",
        "# Create two lists\n",
        "list1 = [1, 2, 3]\n",
        "list2 = [4, 5, 6]\n",
        "\n",
        "# Use map() to add corresponding elements from both lists\n",
        "sum_iterator = map(add, list1, list2)\n",
        "\n",
        "# Convert the iterator to a list\n",
        "sum_list = list(sum_iterator)\n",
        "\n",
        "print(sum_list)"
      ],
      "execution_count": null,
      "outputs": [
        {
          "output_type": "stream",
          "name": "stdout",
          "text": [
            "[5, 7, 9]\n"
          ]
        }
      ]
    },
    {
      "cell_type": "markdown",
      "source": [
        "**10. What is the difference between `map()`, `reduce()`, and `filter()` functions in Python:**"
      ],
      "metadata": {
        "id": "ChSIU795W_ne"
      }
    },
    {
      "cell_type": "markdown",
      "metadata": {
        "id": "8dae7aa1"
      },
      "source": [
        "Here's a breakdown of the differences between `map()`, `reduce()`, and `filter()`:\n",
        "\n",
        "*   **`map(function, iterable)`**: Applies a function to each item of an iterable and returns an iterator of the results. It transforms each element in the iterable.\n",
        "\n",
        "    *   **Example:** Squaring each number in a list.\n",
        "*   **`filter(function, iterable)`**: Constructs an iterator from elements of an iterable for which a function returns true. It selects elements based on a condition.\n",
        "\n",
        "    *   **Example:** Getting only the even numbers from a list.\n",
        "*   **`reduce(function, iterable)`**: Applies a function of two arguments cumulatively to the items of an iterable, from left to right, so as to reduce the iterable to a single value. It aggregates elements. Note that `reduce()` is not a built-in function in Python 3 and needs to be imported from the `functools` module.\n",
        "\n",
        "    *   **Example:** Summing all the numbers in a list."
      ]
    },
    {
      "cell_type": "markdown",
      "source": [
        "**11.Using pen & Paper write the internal mechanism for sum operation using  reduce function on this given\n",
        "list:[47,11,42,13]:**"
      ],
      "metadata": {
        "id": "lkBCpk-cl26Z"
      }
    },
    {
      "cell_type": "markdown",
      "metadata": {
        "id": "ff960b80"
      },
      "source": [
        "Let's trace the internal mechanism of the `reduce()` function for a sum operation on the list `[47, 11, 42, 13]`.\n",
        "\n",
        "The `reduce()` function takes a function (in this case, a function to add two numbers) and an iterable (the list) as arguments. It applies the function cumulatively to the items of the iterable.\n",
        "\n",
        "Here's how it works step-by-step:\n",
        "\n",
        "1.  **Initial step:** `reduce()` takes the first two elements of the list, `47` and `11`, and applies the sum function to them. The result is `47 + 11 = 58`.\n",
        "2.  **Second step:** `reduce()` then takes the result from the previous step (`58`) and the next element in the list (`42`), and applies the sum function again. The result is `58 + 42 = 100`.\n",
        "3.  **Third step:** `reduce()` takes the result from the previous step (`100`) and the next element in the list (`13`), and applies the sum function. The result is `100 + 13 = 113`.\n",
        "4.  **Final result:** Since there are no more elements in the list, `reduce()` returns the final result, which is `113`.\n",
        "\n",
        "In essence, `reduce()` iteratively combines the elements of the list using the provided function until a single value remains."
      ]
    },
    {
      "cell_type": "code",
      "metadata": {
        "colab": {
          "base_uri": "https://localhost:8080/"
        },
        "id": "770a7175",
        "outputId": "66f7919c-05fa-4bea-e17a-84c7a8dad9a0"
      },
      "source": [
        "from functools import reduce\n",
        "\n",
        "numbers = [47, 11, 42, 13]\n",
        "sum_of_numbers = reduce(lambda x, y: x + y, numbers)\n",
        "\n",
        "print(sum_of_numbers)"
      ],
      "execution_count": 16,
      "outputs": [
        {
          "output_type": "stream",
          "name": "stdout",
          "text": [
            "113\n"
          ]
        }
      ]
    },
    {
      "cell_type": "markdown",
      "source": [
        "# **Functions:**\n",
        "**Practical Questions:**\n"
      ],
      "metadata": {
        "id": "p2WOjioBnXt3"
      }
    },
    {
      "cell_type": "markdown",
      "source": [
        "**1.Write a Python function that takes a list of numbers as input and returns the sum of all even numbers in\n",
        "the list:**"
      ],
      "metadata": {
        "id": "8BwJcrgGnfk1"
      }
    },
    {
      "cell_type": "code",
      "metadata": {
        "colab": {
          "base_uri": "https://localhost:8080/"
        },
        "id": "b4080c5b",
        "outputId": "19845cd7-77ee-491e-8289-bc1199105ec3"
      },
      "source": [
        "def sum_of_even_numbers(numbers_list):\n",
        "  \"\"\"\n",
        "  This function takes a list of numbers and returns the sum of all even numbers.\n",
        "\n",
        "  Args:\n",
        "    numbers_list: A list of numbers.\n",
        "\n",
        "  Returns:\n",
        "    The sum of all even numbers in the list.\n",
        "  \"\"\"\n",
        "  even_sum = 0\n",
        "  for number in numbers_list:\n",
        "    if number % 2 == 0:\n",
        "      even_sum += number\n",
        "  return even_sum\n",
        "\n",
        "# Example usage\n",
        "my_list = [1, 2, 3, 4, 5, 6, 7, 8, 9, 10]\n",
        "sum_even = sum_of_even_numbers(my_list)\n",
        "print(f\"The sum of even numbers in the list is: {sum_even}\")"
      ],
      "execution_count": 17,
      "outputs": [
        {
          "output_type": "stream",
          "name": "stdout",
          "text": [
            "The sum of even numbers in the list is: 30\n"
          ]
        }
      ]
    },
    {
      "cell_type": "markdown",
      "source": [
        "**2.Create a Python function that accepts a string and returns the reverse of that string:**"
      ],
      "metadata": {
        "id": "GU8n5resn7WR"
      }
    },
    {
      "cell_type": "code",
      "metadata": {
        "colab": {
          "base_uri": "https://localhost:8080/"
        },
        "id": "ccccd81b",
        "outputId": "512ce88d-dc31-462e-fba8-e00113528bed"
      },
      "source": [
        "def reverse_string(input_string):\n",
        "  \"\"\"\n",
        "  This function takes a string and returns its reverse.\n",
        "\n",
        "  Args:\n",
        "    input_string: The string to be reversed.\n",
        "\n",
        "  Returns:\n",
        "    The reversed string.\n",
        "  \"\"\"\n",
        "  return input_string[::-1]\n",
        "\n",
        "# Example usage\n",
        "my_string = \"hello\"\n",
        "reversed_string = reverse_string(my_string)\n",
        "print(f\"The original string is: {my_string}\")\n",
        "print(f\"The reversed string is: {reversed_string}\")"
      ],
      "execution_count": 18,
      "outputs": [
        {
          "output_type": "stream",
          "name": "stdout",
          "text": [
            "The original string is: hello\n",
            "The reversed string is: olleh\n"
          ]
        }
      ]
    },
    {
      "cell_type": "markdown",
      "source": [
        "**3.Implement a Python function that takes a list of integers and returns a new list containing the squares of\n",
        "each number:**"
      ],
      "metadata": {
        "id": "ZXjaGfMcoUDf"
      }
    },
    {
      "cell_type": "code",
      "metadata": {
        "colab": {
          "base_uri": "https://localhost:8080/"
        },
        "id": "e37adce9",
        "outputId": "8617496e-4d13-4d32-ffd8-e701a810bba1"
      },
      "source": [
        "def square_numbers(numbers_list):\n",
        "  \"\"\"\n",
        "  This function takes a list of integers and returns a new list with the squares of each number.\n",
        "\n",
        "  Args:\n",
        "    numbers_list: A list of integers.\n",
        "\n",
        "  Returns:\n",
        "    A new list containing the squares of the input numbers.\n",
        "  \"\"\"\n",
        "  squared_list = []\n",
        "  for number in numbers_list:\n",
        "    squared_list.append(number ** 2)\n",
        "  return squared_list\n",
        "\n",
        "# Example usage\n",
        "my_list = [1, 2, 3, 4, 5]\n",
        "squared_numbers = square_numbers(my_list)\n",
        "print(f\"Original list: {my_list}\")\n",
        "print(f\"List with squares: {squared_numbers}\")"
      ],
      "execution_count": 19,
      "outputs": [
        {
          "output_type": "stream",
          "name": "stdout",
          "text": [
            "Original list: [1, 2, 3, 4, 5]\n",
            "List with squares: [1, 4, 9, 16, 25]\n"
          ]
        }
      ]
    },
    {
      "cell_type": "markdown",
      "source": [
        "**4.Write a Python function that checks if a given number is prime or not from 1 to 200:**"
      ],
      "metadata": {
        "id": "5hvJ34caot_D"
      }
    },
    {
      "cell_type": "code",
      "metadata": {
        "colab": {
          "base_uri": "https://localhost:8080/"
        },
        "id": "ee595ab3",
        "outputId": "f2cb1dbd-b420-4717-f467-441546d1d077"
      },
      "source": [
        "def is_prime_in_range(number):\n",
        "  \"\"\"\n",
        "  Checks if a given number between 1 and 200 is prime.\n",
        "\n",
        "  Args:\n",
        "    number: The integer to check.\n",
        "\n",
        "  Returns:\n",
        "    True if the number is prime and within the range [1, 200], False otherwise.\n",
        "  \"\"\"\n",
        "  if not 1 <= number <= 200:\n",
        "    print(\"Number is outside the allowed range (1-200).\")\n",
        "    return False\n",
        "  if number <= 1:\n",
        "    return False  # Numbers less than or equal to 1 are not prime\n",
        "  for i in range(2, int(number**0.5) + 1):\n",
        "    if number % i == 0:\n",
        "      return False  # Found a divisor, so not prime\n",
        "  return True  # No divisors found, it's prime\n",
        "\n",
        "# Example usage:\n",
        "print(f\"Is 7 prime? {is_prime_in_range(7)}\")\n",
        "print(f\"Is 10 prime? {is_prime_in_range(10)}\")\n",
        "print(f\"Is 199 prime? {is_prime_in_range(199)}\")\n",
        "print(f\"Is 201 prime? {is_prime_in_range(201)}\")\n",
        "print(f\"Is 1 prime? {is_prime_in_range(1)}\")"
      ],
      "execution_count": 20,
      "outputs": [
        {
          "output_type": "stream",
          "name": "stdout",
          "text": [
            "Is 7 prime? True\n",
            "Is 10 prime? False\n",
            "Is 199 prime? True\n",
            "Number is outside the allowed range (1-200).\n",
            "Is 201 prime? False\n",
            "Is 1 prime? False\n"
          ]
        }
      ]
    },
    {
      "cell_type": "markdown",
      "source": [
        "**5.Create an iterator class in Python that generates the Fibonacci sequence up to a specified number of\n",
        "terms:**"
      ],
      "metadata": {
        "id": "TWJaarS4pBuT"
      }
    },
    {
      "cell_type": "code",
      "metadata": {
        "colab": {
          "base_uri": "https://localhost:8080/"
        },
        "id": "a9238977",
        "outputId": "fba60c5e-89dd-42cc-a576-48270be1bb28"
      },
      "source": [
        "class FibonacciIterator:\n",
        "  \"\"\"\n",
        "  An iterator class that generates the Fibonacci sequence up to a specified number of terms.\n",
        "  \"\"\"\n",
        "  def __init__(self, num_terms):\n",
        "    self.num_terms = num_terms\n",
        "    self.current_term = 0\n",
        "    self.a = 0\n",
        "    self.b = 1\n",
        "\n",
        "  def __iter__(self):\n",
        "    return self\n",
        "\n",
        "  def __next__(self):\n",
        "    if self.current_term < self.num_terms:\n",
        "      if self.current_term == 0:\n",
        "        self.current_term += 1\n",
        "        return self.a\n",
        "      elif self.current_term == 1:\n",
        "        self.current_term += 1\n",
        "        return self.b\n",
        "      else:\n",
        "        next_val = self.a + self.b\n",
        "        self.a = self.b\n",
        "        self.b = next_val\n",
        "        self.current_term += 1\n",
        "        return next_val\n",
        "    else:\n",
        "      raise StopIteration\n",
        "\n",
        "# Example usage:\n",
        "fib_iterator = FibonacciIterator(10)\n",
        "for number in fib_iterator:\n",
        "  print(number)\n",
        "\n",
        "print(\"\\nUsing next() manually:\")\n",
        "fib_iterator_manual = FibonacciIterator(5)\n",
        "print(next(fib_iterator_manual))\n",
        "print(next(fib_iterator_manual))\n",
        "print(next(fib_iterator_manual))\n",
        "print(next(fib_iterator_manual))\n",
        "print(next(fib_iterator_manual))"
      ],
      "execution_count": 21,
      "outputs": [
        {
          "output_type": "stream",
          "name": "stdout",
          "text": [
            "0\n",
            "1\n",
            "1\n",
            "2\n",
            "3\n",
            "5\n",
            "8\n",
            "13\n",
            "21\n",
            "34\n",
            "\n",
            "Using next() manually:\n",
            "0\n",
            "1\n",
            "1\n",
            "2\n",
            "3\n"
          ]
        }
      ]
    },
    {
      "cell_type": "markdown",
      "source": [
        "**6.Write a generator function in Python that yields the powers of 2 up to a given exponent:**"
      ],
      "metadata": {
        "id": "UgZl0wSLpZk5"
      }
    },
    {
      "cell_type": "code",
      "metadata": {
        "colab": {
          "base_uri": "https://localhost:8080/"
        },
        "id": "6b4d05e9",
        "outputId": "140ad7a2-31e6-4e62-9c03-fc0bb1af7f5b"
      },
      "source": [
        "def powers_of_two(exponent):\n",
        "  \"\"\"\n",
        "  A generator function that yields powers of 2 up to a given exponent.\n",
        "\n",
        "  Args:\n",
        "    exponent: The maximum exponent for the power of 2.\n",
        "\n",
        "  Yields:\n",
        "    The powers of 2 from 2^0 up to 2^exponent.\n",
        "  \"\"\"\n",
        "  for i in range(exponent + 1):\n",
        "    yield 2 ** i\n",
        "\n",
        "# Example usage:\n",
        "for power in powers_of_two(5):\n",
        "  print(power)\n",
        "\n",
        "print(\"\\nUsing next() manually:\")\n",
        "powers_gen = powers_of_two(3)\n",
        "print(next(powers_gen))\n",
        "print(next(powers_gen))\n",
        "print(next(powers_gen))\n",
        "print(next(powers_gen))\n",
        "# This will raise StopIteration\n",
        "# print(next(powers_gen))"
      ],
      "execution_count": 22,
      "outputs": [
        {
          "output_type": "stream",
          "name": "stdout",
          "text": [
            "1\n",
            "2\n",
            "4\n",
            "8\n",
            "16\n",
            "32\n",
            "\n",
            "Using next() manually:\n",
            "1\n",
            "2\n",
            "4\n",
            "8\n"
          ]
        }
      ]
    },
    {
      "cell_type": "markdown",
      "source": [
        "**7.Implement a generator function that reads a file line by line and yields each line as a string:**"
      ],
      "metadata": {
        "id": "fyaXpOr2pq-4"
      }
    },
    {
      "cell_type": "markdown",
      "metadata": {
        "id": "a51d7f1f"
      },
      "source": [
        "First, let's create a dummy text file for testing purposes."
      ]
    },
    {
      "cell_type": "code",
      "metadata": {
        "colab": {
          "base_uri": "https://localhost:8080/"
        },
        "id": "d27cff18",
        "outputId": "5811e35b-1b8b-4f57-d6bb-ad4c7510320f"
      },
      "source": [
        "# Create a dummy file named 'my_file.txt'\n",
        "with open('my_file.txt', 'w') as f:\n",
        "  f.write(\"This is the first line.\\n\")\n",
        "  f.write(\"This is the second line.\\n\")\n",
        "  f.write(\"And this is the third line.\\n\")\n",
        "\n",
        "print(\"Dummy file 'my_file.txt' created.\")"
      ],
      "execution_count": 23,
      "outputs": [
        {
          "output_type": "stream",
          "name": "stdout",
          "text": [
            "Dummy file 'my_file.txt' created.\n"
          ]
        }
      ]
    },
    {
      "cell_type": "markdown",
      "metadata": {
        "id": "04c26688"
      },
      "source": [
        "Now, here is the generator function that reads the file line by line."
      ]
    },
    {
      "cell_type": "code",
      "metadata": {
        "colab": {
          "base_uri": "https://localhost:8080/"
        },
        "id": "b83175d1",
        "outputId": "54ffcfa1-5e8b-45f3-efdf-bacb7583be72"
      },
      "source": [
        "def read_file_line_by_line(file_path):\n",
        "  \"\"\"\n",
        "  A generator function that reads a file line by line and yields each line.\n",
        "\n",
        "  Args:\n",
        "    file_path: The path to the file to read.\n",
        "\n",
        "  Yields:\n",
        "    Each line of the file as a string.\n",
        "  \"\"\"\n",
        "  try:\n",
        "    with open(file_path, 'r') as f:\n",
        "      for line in f:\n",
        "        yield line.strip() # Remove leading/trailing whitespace, including newline characters\n",
        "  except FileNotFoundError:\n",
        "    print(f\"Error: The file '{file_path}' was not found.\")\n",
        "\n",
        "# Example usage:\n",
        "# Assuming 'my_file.txt' was created in the previous cell\n",
        "print(\"Reading 'my_file.txt' using the generator:\")\n",
        "for line in read_file_line_by_line('my_file.txt'):\n",
        "  print(line)\n",
        "\n",
        "# Example with a non-existent file\n",
        "print(\"\\nAttempting to read a non-existent file:\")\n",
        "for line in read_file_line_by_line('non_existent_file.txt'):\n",
        "  print(line)"
      ],
      "execution_count": 24,
      "outputs": [
        {
          "output_type": "stream",
          "name": "stdout",
          "text": [
            "Reading 'my_file.txt' using the generator:\n",
            "This is the first line.\n",
            "This is the second line.\n",
            "And this is the third line.\n",
            "\n",
            "Attempting to read a non-existent file:\n",
            "Error: The file 'non_existent_file.txt' was not found.\n"
          ]
        }
      ]
    },
    {
      "cell_type": "markdown",
      "source": [
        "**8.Use a lambda function in Python to sort a list of tuples based on the second element of each tuple:**"
      ],
      "metadata": {
        "id": "hevSCvCjqEp5"
      }
    },
    {
      "cell_type": "code",
      "metadata": {
        "colab": {
          "base_uri": "https://localhost:8080/"
        },
        "id": "504fc291",
        "outputId": "03d2fadd-a4d0-401b-9864-0d408971f55b"
      },
      "source": [
        "# A list of tuples\n",
        "my_list_of_tuples = [(1, 'c'), (2, 'a'), (3, 'b')]\n",
        "\n",
        "# Sort the list of tuples based on the second element using a lambda function\n",
        "sorted_list = sorted(my_list_of_tuples, key=lambda item: item[1])\n",
        "\n",
        "print(sorted_list)"
      ],
      "execution_count": 25,
      "outputs": [
        {
          "output_type": "stream",
          "name": "stdout",
          "text": [
            "[(2, 'a'), (3, 'b'), (1, 'c')]\n"
          ]
        }
      ]
    },
    {
      "cell_type": "markdown",
      "source": [
        "**9.Write a Python program that uses `map()` to convert a list of temperatures from Celsius to Fahrenheit:**"
      ],
      "metadata": {
        "id": "Sq0oXiw8qYVA"
      }
    },
    {
      "cell_type": "code",
      "metadata": {
        "colab": {
          "base_uri": "https://localhost:8080/"
        },
        "id": "e4dbdbe5",
        "outputId": "b44c79f3-edde-462d-b3e4-2864d508be82"
      },
      "source": [
        "# Function to convert Celsius to Fahrenheit\n",
        "def celsius_to_fahrenheit(celsius):\n",
        "  return (celsius * 9/5) + 32\n",
        "\n",
        "# List of temperatures in Celsius\n",
        "celsius_temperatures = [0, 10, 20, 30, 40]\n",
        "\n",
        "# Use map() to convert Celsius to Fahrenheit\n",
        "fahrenheit_temperatures_iterator = map(celsius_to_fahrenheit, celsius_temperatures)\n",
        "\n",
        "# Convert the iterator to a list to see the results\n",
        "fahrenheit_temperatures = list(fahrenheit_temperatures_iterator)\n",
        "\n",
        "print(f\"Celsius temperatures: {celsius_temperatures}\")\n",
        "print(f\"Fahrenheit temperatures: {fahrenheit_temperatures}\")"
      ],
      "execution_count": 26,
      "outputs": [
        {
          "output_type": "stream",
          "name": "stdout",
          "text": [
            "Celsius temperatures: [0, 10, 20, 30, 40]\n",
            "Fahrenheit temperatures: [32.0, 50.0, 68.0, 86.0, 104.0]\n"
          ]
        }
      ]
    },
    {
      "cell_type": "markdown",
      "source": [
        "**10.Create a Python program that uses `filter()` to remove all the vowels from a given string:**"
      ],
      "metadata": {
        "id": "y-ZvSeEfqsX3"
      }
    },
    {
      "cell_type": "code",
      "metadata": {
        "colab": {
          "base_uri": "https://localhost:8080/"
        },
        "id": "159c3702",
        "outputId": "859e1ef5-7739-4a46-fef0-2d81cecb2ae9"
      },
      "source": [
        "def is_not_vowel(character):\n",
        "  \"\"\"Checks if a character is not a vowel (case-insensitive).\"\"\"\n",
        "  return character.lower() not in 'aeiou'\n",
        "\n",
        "# Input string\n",
        "my_string = \"Hello World\"\n",
        "\n",
        "# Use filter() to get an iterator of non-vowel characters\n",
        "filtered_characters_iterator = filter(is_not_vowel, my_string)\n",
        "\n",
        "# Join the filtered characters back into a string\n",
        "string_without_vowels = \"\".join(filtered_characters_iterator)\n",
        "\n",
        "print(f\"Original string: {my_string}\")\n",
        "print(f\"String without vowels: {string_without_vowels}\")"
      ],
      "execution_count": 27,
      "outputs": [
        {
          "output_type": "stream",
          "name": "stdout",
          "text": [
            "Original string: Hello World\n",
            "String without vowels: Hll Wrld\n"
          ]
        }
      ]
    },
    {
      "cell_type": "markdown",
      "source": [
        "**11. Imagine an accounting routine used in a book shop. It works on a list with sublists, which look like this:\n",
        "OrderNumber BookTitle and Author     Quantity Price/Item\n",
        "\n",
        "34587    Learning Python,Mark Lutz         4   40.95/-\n",
        "\n",
        "98762    Programming Python,Mark Lutz      5   56.80/-\n",
        "\n",
        "77226    Head First Python,Paul Barry      3   32.95/-\n",
        "\n",
        "88112    Einfuhrung in Python3,Bernd Klein 3   24.99/-\n",
        "\n",
        "Write a Python program, which returns a list with 2-tuples. Each tuple consists of the order number and the\n",
        "product of the price per item and the quantity. The product should be increased by 10,- € if the value of the\n",
        "order is smaller than 100,00 €.\n",
        "\n",
        "Write a Python program using lambda and map:**"
      ],
      "metadata": {
        "id": "tjaPeJIaq-Zb"
      }
    },
    {
      "cell_type": "code",
      "metadata": {
        "colab": {
          "base_uri": "https://localhost:8080/"
        },
        "id": "eba84609",
        "outputId": "b94c32a7-5643-4020-9904-0a70d3382ddd"
      },
      "source": [
        "orders = [\n",
        "    (34587, 'Learning Python, Mark Lutz', 4, 40.95),\n",
        "    (98762, 'Programming Python, Mark Lutz', 5, 56.80),\n",
        "    (77226, 'Head First Python, Paul Barry', 3, 32.95),\n",
        "    (88112, 'Einfuhrung in Python3, Bernd Klein', 3, 24.99)\n",
        "]\n",
        "\n",
        "# Use map and lambda to calculate the order total and apply the bonus\n",
        "processed_orders = list(map(lambda order: (order[0], order[2] * order[3] + (10 if order[2] * order[3] < 100 else 0)), orders))\n",
        "\n",
        "print(processed_orders)"
      ],
      "execution_count": 28,
      "outputs": [
        {
          "output_type": "stream",
          "name": "stdout",
          "text": [
            "[(34587, 163.8), (98762, 284.0), (77226, 108.85000000000001), (88112, 84.97)]\n"
          ]
        }
      ]
    }
  ]
}